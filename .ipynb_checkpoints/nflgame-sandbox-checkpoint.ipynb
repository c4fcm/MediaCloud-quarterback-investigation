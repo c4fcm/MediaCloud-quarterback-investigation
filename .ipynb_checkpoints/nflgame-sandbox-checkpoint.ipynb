{
 "cells": [
  {
   "cell_type": "code",
   "execution_count": 5,
   "metadata": {
    "collapsed": true
   },
   "outputs": [],
   "source": [
    "# sandbox notebook for experimenting with nflgame package\n",
    "# https://github.com/BurntSushi/nflgame\n",
    "# api documentation at http://pdoc.burntsushi.net/nflgame\n",
    "# install with \"pip install nflgame\"\n",
    "\n",
    "import nflgame as ng"
   ]
  },
  {
   "cell_type": "code",
   "execution_count": 33,
   "metadata": {
    "collapsed": false
   },
   "outputs": [
    {
     "data": {
      "text/plain": [
       "'CAR'"
      ]
     },
     "execution_count": 33,
     "metadata": {},
     "output_type": "execute_result"
    }
   ],
   "source": [
    "ng.standard_team('carolina panthers') #returns standard abbreviation for team name"
   ]
  },
  {
   "cell_type": "code",
   "execution_count": 56,
   "metadata": {
    "collapsed": false
   },
   "outputs": [
    {
     "name": "stdout",
     "output_type": "stream",
     "text": [
      "5/11/1989\n",
      "00-0027939\n",
      "[C.Newton, T.Ginn] 13:36\n",
      "[C.Newton, P.Posluszny] 13:31\n",
      "[E.Dickson, C.Newton, P.Posluszny] 12:49\n",
      "[C.Newton, C.Brown, T.Smith] 12:14\n",
      "[C.Newton, J.Cotchery] 10:07\n",
      "[C.Newton, T.Ginn] 10:04\n",
      "[G.Olsen, C.Newton, S.Brown] 09:59\n",
      "[C.Clemons, C.Newton] 08:25\n",
      "[E.Dickson, C.Newton, P.Posluszny] 07:58\n",
      "[C.Newton, D.Funchess] 05:40\n",
      "[C.Newton, T.Ginn] 05:35\n",
      "[C.Newton, J.Odrick] 00:19\n",
      "[R.Miller, C.Newton] 15:00\n",
      "[J.Stewart, C.Newton, D.Skuta] 09:13\n",
      "[C.Newton, A.Colvin, D.Funchess] 08:55\n",
      "[C.Newton, P.Posluszny, G.Olsen] 08:22\n",
      "[C.Newton, D.Skuta] 07:19\n",
      "[C.Newton, T.Ginn] 06:35\n",
      "[C.Newton, J.Cotchery] 06:10\n",
      "[J.Stewart, J.Cyprien, C.Newton] 05:21\n",
      "[C.Newton, P.Posluszny, F.Whittaker] 04:47\n",
      "[C.Newton, C.Brown, D.Gratz] 04:10\n",
      "[C.Newton, A.Colvin, M.Tolbert, P.Posluszny] 03:07\n",
      "[R.Davis, C.Newton] 02:25\n",
      "[C.Newton, D.Skuta] 02:00\n",
      "[C.Newton, J.Cotchery] 01:56\n",
      "[C.Newton] 00:14\n",
      "[C.Newton, T.Ginn] 14:30\n",
      "[D.House, C.Newton, T.Ginn] 14:23\n",
      "[C.Newton, T.Smith] 12:50\n",
      "[C.Newton, D.Skuta] 12:08\n",
      "[C.Clemons, C.Newton, T.Ginn] 06:06\n",
      "[J.Cotchery, C.Newton, T.Smith] 06:02\n",
      "[M.Bennett, C.Newton, T.Smith] 04:18\n",
      "[F.Whittaker, C.Newton, T.Smith] 03:31\n",
      "[C.Newton, D.McCray, J.Cotchery] 00:20\n",
      "[C.Newton, M.Tolbert] 15:00\n",
      "[C.Newton, C.Smith, C.Brown] 10:48\n",
      "[D.House, C.Newton, J.Cotchery] 09:53\n",
      "[D.House, C.Newton, G.Olsen] 08:42\n",
      "[C.Newton, J.Odrick] 08:17\n",
      "[J.Stewart, C.Newton, D.Gratz] 07:17\n",
      "[J.Stewart, C.Newton, P.Posluszny] 05:52\n",
      "[C.Newton, T.Smith] 05:08\n",
      "[C.Newton, C.Smith] 03:38\n",
      "[C.Newton, T.Smith] 02:56\n",
      "[C.Newton] 00:06\n"
     ]
    }
   ],
   "source": [
    "for player in ng.find('Cam Newton'): # ng.find() returns a LIST of \"player\" objects\n",
    "    \n",
    "    print player.birthdate\n",
    "    print player.gsis_id\n",
    "    \n",
    "    for play in player.plays(2015, week=1):\n",
    "        print play.players, play.data['time']"
   ]
  },
  {
   "cell_type": "code",
   "execution_count": 52,
   "metadata": {
    "collapsed": false
   },
   "outputs": [],
   "source": [
    "gamelist = ng.games(2015, week = range(1,18), home = 'CAR', away = 'CAR', kind = 'REG')\n",
    "# this is: a list of all games with the carolina panthers in the 2015 regular season\n",
    "\n",
    "# http://pdoc.burntsushi.net/nflgame#nflgame.games says:\n",
    "# As a special case, if the home and away teams are set to the same team, then all games where that team played are returned.\n",
    "# \n",
    "# The kind parameter specifies whether to fetch preseason, regular season or postseason games. Valid values are PRE, REG and POST.\n",
    "# \n",
    "# The week parameter is relative to the value of the kind parameter, and may be set to a list of week numbers. \n",
    "# In the regular season, the week parameter corresponds to the normal week numbers 1 through 17. \n",
    "# Similarly in the preseason, valid week numbers are 1 through 4. In the post season, the week number corresponds to \n",
    "# the numerical round of the playoffs. So the wild card round is week 1, the divisional round is week 2, the conference round \n",
    "# is week 3 and the Super Bowl is week 4."
   ]
  },
  {
   "cell_type": "code",
   "execution_count": 50,
   "metadata": {
    "collapsed": false
   },
   "outputs": [],
   "source": [
    "nonegamelist = ng.games(2015, week = None, home = 'CAR', away = 'CAR', kind = 'REG')"
   ]
  },
  {
   "cell_type": "code",
   "execution_count": 51,
   "metadata": {
    "collapsed": false
   },
   "outputs": [
    {
     "data": {
      "text/plain": [
       "True"
      ]
     },
     "execution_count": 51,
     "metadata": {},
     "output_type": "execute_result"
    }
   ],
   "source": [
    "# confirms that both lists are the same; week = None is equivalent to week = range(1,18) (makes sense)\n",
    "# also this is how you get the game ID# from the game object\n",
    "\n",
    "gamelistkeys = []\n",
    "for g in gamelist:\n",
    "    gamelistkeys += [g.gamekey]\n",
    "    \n",
    "gamelistnonekeys = []\n",
    "for g in nonegamelist:\n",
    "    gamelistnonekeys += [g.gamekey]\n",
    "    \n",
    "gamelistkeys == gamelistnonekeys"
   ]
  },
  {
   "cell_type": "code",
   "execution_count": 73,
   "metadata": {
    "collapsed": false
   },
   "outputs": [
    {
     "name": "stdout",
     "output_type": "stream",
     "text": [
      "15:00 JAC (Start: Q1 15:00, End: Q1 13:36) Punt [G.Gano]\n",
      "15:00 JAC (Start: Q1 15:00, End: Q1 13:36) Punt [T.Yeldon, T.Davis]\n",
      "14:28 JAC (Start: Q1 15:00, End: Q1 13:36) Punt [T.Yeldon, T.Davis]\n",
      "13:48 JAC (Start: Q1 15:00, End: Q1 13:36) Punt [R.Greene, B.Bortles]\n",
      "13:42 JAC (Start: Q1 15:00, End: Q1 13:36) Punt [T.Ginn, B.Anger]\n",
      "13:36 CAR (Start: Q1 13:36, End: Q1 07:49) Field Goal [C.Newton, T.Ginn]\n",
      "13:31 CAR (Start: Q1 13:36, End: Q1 07:49) Field Goal [C.Newton, P.Posluszny]\n",
      "12:49 CAR (Start: Q1 13:36, End: Q1 07:49) Field Goal [E.Dickson, C.Newton, P.Posluszny]\n",
      "12:14 CAR (Start: Q1 13:36, End: Q1 07:49) Field Goal [C.Newton, C.Brown, T.Smith]\n",
      "11:43 CAR (Start: Q1 13:36, End: Q1 07:49) Field Goal [J.Stewart, S.Brown]\n",
      "11:07 CAR (Start: Q1 13:36, End: Q1 07:49) Field Goal [J.Stewart, R.Miller]\n",
      "10:34 CAR (Start: Q1 13:36, End: Q1 07:49) Field Goal [J.Stewart, P.Posluszny]\n",
      "10:07 CAR (Start: Q1 13:36, End: Q1 07:49) Field Goal [C.Newton, J.Cotchery]\n",
      "10:04 CAR (Start: Q1 13:36, End: Q1 07:49) Field Goal [C.Newton, T.Ginn]\n",
      "09:59 CAR (Start: Q1 13:36, End: Q1 07:49) Field Goal [G.Olsen, C.Newton, S.Brown]\n",
      "09:30 CAR (Start: Q1 13:36, End: Q1 07:49) Field Goal [J.Stewart, C.Clemons]\n",
      "08:49 CAR (Start: Q1 13:36, End: Q1 07:49) Field Goal [G.Olsen]\n",
      "08:25 CAR (Start: Q1 13:36, End: Q1 07:49) Field Goal [C.Clemons, C.Newton]\n",
      "07:58 CAR (Start: Q1 13:36, End: Q1 07:49) Field Goal [E.Dickson, C.Newton, P.Posluszny]\n",
      "07:52 CAR (Start: Q1 13:36, End: Q1 07:49) Field Goal [G.Gano]\n",
      "07:49 JAC (Start: Q1 07:49, End: Q1 06:38) Punt [G.Gano]\n",
      "07:49 JAC (Start: Q1 07:49, End: Q1 06:38) Punt [A.Robinson, B.Bortles]\n",
      "07:44 JAC (Start: Q1 07:49, End: Q1 06:38) Punt [C.Tillman, T.Yeldon]\n",
      "07:09 JAC (Start: Q1 07:49, End: Q1 06:38) Punt [K.Short, B.Bortles]\n",
      "06:45 JAC (Start: Q1 07:49, End: Q1 06:38) Punt [T.Ginn, B.Anger]\n",
      "06:38 CAR (Start: Q1 06:38, End: Q1 05:25) Missed FG [J.Stewart, P.Posluszny]\n",
      "05:40 CAR (Start: Q1 06:38, End: Q1 05:25) Missed FG [C.Newton, D.Funchess]\n",
      "05:35 CAR (Start: Q1 06:38, End: Q1 05:25) Missed FG [C.Newton, T.Ginn]\n",
      "05:28 CAR (Start: Q1 06:38, End: Q1 05:25) Missed FG [G.Gano]\n",
      "05:25 JAC (Start: Q1 05:25, End: Q1 00:59) Field Goal [R.Greene, B.Benwikere, W.Horton, B.Bortles]\n",
      "05:21 JAC (Start: Q1 05:25, End: Q1 00:59) Field Goal [T.Yeldon, B.Benwikere, J.Norman]\n",
      "04:36 JAC (Start: Q1 05:25, End: Q1 00:59) Field Goal [B.Pierce, L.Kuechly, B.Bortles]\n",
      "04:00 JAC (Start: Q1 05:25, End: Q1 00:59) Field Goal [T.Yeldon, K.Coleman]\n",
      "03:24 JAC (Start: Q1 05:25, End: Q1 00:59) Field Goal [R.Greene, L.Kuechly, B.Bortles]\n",
      "02:50 JAC (Start: Q1 05:25, End: Q1 00:59) Field Goal [T.Yeldon, B.Bortles, C.Tillman]\n",
      "02:24 JAC (Start: Q1 05:25, End: Q1 00:59) Field Goal [R.Harper, B.Bortles]\n",
      "01:48 JAC (Start: Q1 05:25, End: Q1 00:59) Field Goal []\n",
      "01:48 JAC (Start: Q1 05:25, End: Q1 00:59) Field Goal [R.Greene, B.Bortles]\n",
      "01:44 JAC (Start: Q1 05:25, End: Q1 00:59) Field Goal [B.Benwikere, T.Yeldon]\n",
      "01:06 JAC (Start: Q1 05:25, End: Q1 00:59) Field Goal [A.Robinson, B.Bortles]\n",
      "01:01 JAC (Start: Q1 05:25, End: Q1 00:59) Field Goal [J.Myers]\n",
      "00:59 CAR (Start: Q1 00:59, End: Q2 14:06) Punt [J.Myers]\n",
      "00:59 CAR (Start: Q1 00:59, End: Q2 14:06) Punt [J.Stewart, S.Brown]\n",
      "00:19 CAR (Start: Q1 00:59, End: Q2 14:06) Punt [C.Newton, J.Odrick]\n",
      " CAR (Start: Q1 00:59, End: Q2 14:06) Punt []\n",
      "15:00 CAR (Start: Q1 00:59, End: Q2 14:06) Punt [R.Miller, C.Newton]\n",
      "14:12 CAR (Start: Q1 00:59, End: Q2 14:06) Punt [R.Greene, A.Colvin, B.Nortman]\n",
      "14:06 JAC (Start: Q2 14:06, End: Q2 09:13) Fumble [D.Robinson, L.Kuechly]\n",
      "13:29 JAC (Start: Q2 14:06, End: Q2 09:13) Fumble [A.Robinson, B.Bortles]\n",
      "13:24 JAC (Start: Q2 14:06, End: Q2 09:13) Fumble [B.Benwikere, B.Bortles, A.Hurns]\n",
      "13:02 JAC (Start: Q2 14:06, End: Q2 09:13) Fumble [A.Robinson, B.Bortles, C.Tillman]\n",
      "12:24 JAC (Start: Q2 14:06, End: Q2 09:13) Fumble [C.Tillman, C.Grant, B.Bortles]\n",
      "11:45 JAC (Start: Q2 14:06, End: Q2 09:13) Fumble [D.Robinson, L.Kuechly]\n",
      "11:22 JAC (Start: Q2 14:06, End: Q2 09:13) Fumble [K.Love, B.Bortles]\n",
      "10:45 JAC (Start: Q2 14:06, End: Q2 09:13) Fumble [T.Davis, B.Bortles, A.Hurns]\n",
      "10:01 JAC (Start: Q2 14:06, End: Q2 09:13) Fumble [L.Kuechly, B.Bortles]\n",
      "09:25 JAC (Start: Q2 14:06, End: Q2 09:13) Fumble [A.Hurns, Z.Beadles, B.Bortles, J.Norman]\n",
      "09:13 CAR (Start: Q2 09:13, End: Q2 08:11) Interception [J.Stewart, C.Newton, D.Skuta]\n",
      "08:55 CAR (Start: Q2 09:13, End: Q2 08:11) Interception [C.Newton, A.Colvin, D.Funchess]\n",
      "08:22 CAR (Start: Q2 09:13, End: Q2 08:11) Interception [C.Newton, P.Posluszny, G.Olsen]\n",
      "08:11 JAC (Start: Q2 08:11, End: Q2 07:19) Missed FG [T.Yeldon, K.Short]\n",
      "07:34 JAC (Start: Q2 08:11, End: Q2 07:19) Missed FG [N.Jacobs, B.Bortles]\n",
      "07:29 JAC (Start: Q2 08:11, End: Q2 07:19) Missed FG [R.Greene, B.Bortles]\n",
      "07:24 JAC (Start: Q2 08:11, End: Q2 07:19) Missed FG [J.Myers]\n",
      "07:19 CAR (Start: Q2 07:19, End: Q2 01:52) Touchdown [C.Newton, D.Skuta]\n",
      "06:40 CAR (Start: Q2 07:19, End: Q2 01:52) Touchdown [A.Colvin]\n",
      "06:35 CAR (Start: Q2 07:19, End: Q2 01:52) Touchdown [C.Newton, T.Ginn]\n",
      "06:10 CAR (Start: Q2 07:19, End: Q2 01:52) Touchdown [C.Newton, J.Cotchery]\n",
      "06:04 CAR (Start: Q2 07:19, End: Q2 01:52) Touchdown [J.Stewart, J.Cyprien, T.Smith]\n",
      "05:21 CAR (Start: Q2 07:19, End: Q2 01:52) Touchdown [J.Stewart, J.Cyprien, C.Newton]\n",
      "04:47 CAR (Start: Q2 07:19, End: Q2 01:52) Touchdown []\n",
      "04:47 CAR (Start: Q2 07:19, End: Q2 01:52) Touchdown [C.Newton, P.Posluszny, F.Whittaker]\n",
      "04:10 CAR (Start: Q2 07:19, End: Q2 01:52) Touchdown [C.Newton, C.Brown, D.Gratz]\n",
      "03:45 CAR (Start: Q2 07:19, End: Q2 01:52) Touchdown [T.Alualu, F.Whittaker]\n",
      "03:07 CAR (Start: Q2 07:19, End: Q2 01:52) Touchdown [C.Newton, A.Colvin, M.Tolbert, P.Posluszny]\n",
      "02:25 CAR (Start: Q2 07:19, End: Q2 01:52) Touchdown [R.Davis, C.Newton]\n",
      "02:00 CAR (Start: Q2 07:19, End: Q2 01:52) Touchdown []\n",
      "02:00 CAR (Start: Q2 07:19, End: Q2 01:52) Touchdown [C.Newton, D.Skuta]\n",
      "01:56 CAR (Start: Q2 07:19, End: Q2 01:52) Touchdown []\n",
      "01:56 CAR (Start: Q2 07:19, End: Q2 01:52) Touchdown [C.Newton, J.Cotchery]\n",
      "01:52 CAR (Start: Q2 07:19, End: Q2 01:52) Touchdown [G.Gano]\n",
      "01:52 JAC (Start: Q2 01:52, End: Q2 00:14) Touchdown [T.Boston, C.Grant, G.Gano]\n",
      "01:46 JAC (Start: Q2 01:52, End: Q2 00:14) Touchdown [R.Greene, L.Kuechly, B.Bortles]\n",
      "01:26 JAC (Start: Q2 01:52, End: Q2 00:14) Touchdown [R.Greene, B.Benwikere, B.Bortles]\n",
      "01:08 JAC (Start: Q2 01:52, End: Q2 00:14) Touchdown [T.Yeldon, L.Kuechly, B.Bortles]\n",
      "00:57 JAC (Start: Q2 01:52, End: Q2 00:14) Touchdown []\n",
      "00:57 JAC (Start: Q2 01:52, End: Q2 00:14) Touchdown [R.Greene, A.Klein, B.Bortles]\n",
      "00:38 JAC (Start: Q2 01:52, End: Q2 00:14) Touchdown [T.Davis, B.Bortles]\n",
      "00:33 JAC (Start: Q2 01:52, End: Q2 00:14) Touchdown [T.Yeldon, T.Davis, B.Bortles]\n",
      "00:26 JAC (Start: Q2 01:52, End: Q2 00:14) Touchdown []\n",
      "00:26 JAC (Start: Q2 01:52, End: Q2 00:14) Touchdown [B.Bortles, A.Hurns]\n",
      "00:21 JAC (Start: Q2 01:52, End: Q2 00:14) Touchdown [A.Robinson, B.Bortles, J.Norman]\n",
      "00:18 JAC (Start: Q2 01:52, End: Q2 00:14) Touchdown [R.Greene, B.Bortles]\n",
      "00:14 JAC (Start: Q2 01:52, End: Q2 00:14) Touchdown [J.Myers]\n",
      "00:14 CAR (Start: Q2 00:14, End: Q2 00:00) End of Half [J.Myers]\n",
      "00:14 CAR (Start: Q2 00:14, End: Q2 00:00) End of Half [C.Newton]\n",
      " CAR (Start: Q2 00:14, End: Q2 00:00) End of Half []\n",
      "15:00 CAR (Start: Q3 15:00, End: Q3 11:15) Punt [J.Myers]\n",
      "15:00 CAR (Start: Q3 15:00, End: Q3 11:15) Punt [J.Stewart, P.Posluszny]\n",
      "14:30 CAR (Start: Q3 15:00, End: Q3 11:15) Punt [C.Newton, T.Ginn]\n",
      "14:23 CAR (Start: Q3 15:00, End: Q3 11:15) Punt [D.House, C.Newton, T.Ginn]\n",
      "13:35 CAR (Start: Q3 15:00, End: Q3 11:15) Punt [J.Stewart, D.Skuta]\n",
      "12:50 CAR (Start: Q3 15:00, End: Q3 11:15) Punt [C.Newton, T.Smith]\n",
      "12:08 CAR (Start: Q3 15:00, End: Q3 11:15) Punt [C.Newton, D.Skuta]\n",
      "11:23 CAR (Start: Q3 15:00, End: Q3 11:15) Punt [B.Nortman]\n",
      "11:15 JAC (Start: Q3 11:15, End: Q3 09:01) Interception [A.Klein, T.Yeldon]\n",
      "10:42 JAC (Start: Q3 11:15, End: Q3 09:01) Interception [A.Klein, T.Yeldon]\n",
      "10:03 JAC (Start: Q3 11:15, End: Q3 09:01) Interception [J.Norman, B.Bortles, A.Hurns]\n",
      "09:25 JAC (Start: Q3 11:15, End: Q3 09:01) Interception [L.Joeckel]\n",
      "09:08 JAC (Start: Q3 11:15, End: Q3 09:01) Interception [T.Yeldon, B.Bortles, J.Norman]\n",
      "09:01 JAC (Start: Q3 09:01, End: Q3 06:34) Punt [G.Gano]\n",
      "09:01 JAC (Start: Q3 09:01, End: Q3 06:34) Punt [D.Robinson, A.Klein]\n",
      "08:28 JAC (Start: Q3 09:01, End: Q3 06:34) Punt [D.Robinson, B.Bortles, J.Norman]\n",
      "08:03 JAC (Start: Q3 09:01, End: Q3 06:34) Punt [D.Robinson, K.Coleman]\n",
      "07:26 JAC (Start: Q3 09:01, End: Q3 06:34) Punt [D.Robinson, A.Klein]\n",
      "06:47 JAC (Start: Q3 09:01, End: Q3 06:34) Punt [B.Bortles, A.Hurns]\n",
      "06:42 JAC (Start: Q3 09:01, End: Q3 06:34) Punt [T.Ginn, B.Anger]\n",
      "06:34 CAR (Start: Q3 06:34, End: Q3 02:40) Punt [J.Stewart, T.Alualu]\n",
      "06:06 CAR (Start: Q3 06:34, End: Q3 02:40) Punt [C.Clemons, C.Newton, T.Ginn]\n",
      "06:02 CAR (Start: Q3 06:34, End: Q3 02:40) Punt [J.Cotchery, C.Newton, T.Smith]\n",
      "05:21 CAR (Start: Q3 06:34, End: Q3 02:40) Punt [J.Stewart, C.Smith]\n",
      "04:43 CAR (Start: Q3 06:34, End: Q3 02:40) Punt [R.Kalil]\n",
      "04:18 CAR (Start: Q3 06:34, End: Q3 02:40) Punt [M.Bennett, C.Newton, T.Smith]\n",
      "03:31 CAR (Start: Q3 06:34, End: Q3 02:40) Punt [F.Whittaker, C.Newton, T.Smith]\n",
      "02:54 CAR (Start: Q3 06:34, End: Q3 02:40) Punt [R.Greene, M.Addison, B.Nortman]\n",
      "02:40 JAC (Start: Q3 02:40, End: Q3 01:04) Punt [C.Johnson, B.Bortles]\n",
      "02:29 JAC (Start: Q3 02:40, End: Q3 01:04) Punt [C.Johnson, T.Yeldon]\n",
      "01:51 JAC (Start: Q3 02:40, End: Q3 01:04) Punt [M.Addison, B.Bortles]\n",
      "01:14 JAC (Start: Q3 02:40, End: Q3 01:04) Punt [D.McCray, T.Ginn, B.Anger]\n",
      "01:04 CAR (Start: Q3 01:04, End: Q4 14:49) Punt [J.Stewart, D.Skuta]\n",
      "00:20 CAR (Start: Q3 01:04, End: Q4 14:49) Punt [C.Newton, D.McCray, J.Cotchery]\n",
      " CAR (Start: Q3 01:04, End: Q4 14:49) Punt []\n",
      "15:00 CAR (Start: Q3 01:04, End: Q4 14:49) Punt [C.Newton, M.Tolbert]\n",
      "14:57 CAR (Start: Q3 01:04, End: Q4 14:49) Punt [R.Greene, B.Nortman]\n",
      "14:49 JAC (Start: Q4 14:49, End: Q4 10:48) Punt [R.Greene, B.Bortles, J.Norman]\n",
      "14:16 JAC (Start: Q4 14:49, End: Q4 10:48) Punt [D.Robinson, W.Horton, B.Bortles]\n",
      "13:41 JAC (Start: Q4 14:49, End: Q4 10:48) Punt [A.Robinson, B.Bortles]\n",
      "13:37 JAC (Start: Q4 14:49, End: Q4 10:48) Punt [T.Yeldon, K.Coleman]\n",
      "12:52 JAC (Start: Q4 14:49, End: Q4 10:48) Punt [R.Greene, B.Benwikere, B.Bortles]\n",
      "12:17 JAC (Start: Q4 14:49, End: Q4 10:48) Punt [T.Yeldon, T.Davis]\n",
      "11:38 JAC (Start: Q4 14:49, End: Q4 10:48) Punt [T.Davis, B.Bortles]\n",
      "10:59 JAC (Start: Q4 14:49, End: Q4 10:48) Punt [D.Robinson, T.Ginn, D.Skuta, T.Williams, B.Anger]\n",
      "10:48 CAR (Start: Q4 10:48, End: Q4 02:41) Field Goal [C.Newton, C.Smith, C.Brown]\n",
      "10:44 CAR (Start: Q4 10:48, End: Q4 02:41) Field Goal [J.Stewart, J.Cyprien]\n",
      "09:53 CAR (Start: Q4 10:48, End: Q4 02:41) Field Goal []\n",
      "09:53 CAR (Start: Q4 10:48, End: Q4 02:41) Field Goal [D.House, C.Newton, J.Cotchery]\n",
      "09:18 CAR (Start: Q4 10:48, End: Q4 02:41) Field Goal [J.Stewart, C.Smith]\n",
      "08:42 CAR (Start: Q4 10:48, End: Q4 02:41) Field Goal [D.House, C.Newton, G.Olsen]\n",
      "08:17 CAR (Start: Q4 10:48, End: Q4 02:41) Field Goal [C.Newton, J.Odrick]\n",
      "07:55 CAR (Start: Q4 10:48, End: Q4 02:41) Field Goal [J.Cyprien, F.Whittaker]\n",
      "07:17 CAR (Start: Q4 10:48, End: Q4 02:41) Field Goal [J.Stewart, C.Newton, D.Gratz]\n",
      "06:32 CAR (Start: Q4 10:48, End: Q4 02:41) Field Goal []\n",
      "06:32 CAR (Start: Q4 10:48, End: Q4 02:41) Field Goal [M.Tolbert, S.Brown]\n",
      "05:52 CAR (Start: Q4 10:48, End: Q4 02:41) Field Goal [J.Stewart, C.Newton, P.Posluszny]\n",
      "05:08 CAR (Start: Q4 10:48, End: Q4 02:41) Field Goal [C.Newton, T.Smith]\n",
      "04:25 CAR (Start: Q4 10:48, End: Q4 02:41) Field Goal [J.Stewart, P.Posluszny]\n",
      "03:38 CAR (Start: Q4 10:48, End: Q4 02:41) Field Goal [C.Newton, C.Smith]\n",
      "02:56 CAR (Start: Q4 10:48, End: Q4 02:41) Field Goal [C.Newton, T.Smith]\n",
      "02:46 CAR (Start: Q4 10:48, End: Q4 02:41) Field Goal []\n",
      "02:46 CAR (Start: Q4 10:48, End: Q4 02:41) Field Goal [G.Gano]\n",
      "02:41 JAC (Start: Q4 02:41, End: Q4 02:32) Interception [G.Gano]\n",
      "02:41 JAC (Start: Q4 02:41, End: Q4 02:32) Interception [M.Addison, C.Harbor, T.Yeldon, T.Davis, B.Bortles]\n",
      "02:32 CAR (Start: Q4 02:32, End: Q4 01:09) Missed FG [J.Stewart, J.Odrick]\n",
      "02:27 CAR (Start: Q4 02:32, End: Q4 01:09) Missed FG []\n",
      "02:26 CAR (Start: Q4 02:32, End: Q4 01:09) Missed FG [J.Stewart, T.Smith]\n",
      "02:00 CAR (Start: Q4 02:32, End: Q4 01:09) Missed FG []\n",
      "02:00 CAR (Start: Q4 02:32, End: Q4 01:09) Missed FG [J.Stewart, C.Smith]\n",
      "01:14 CAR (Start: Q4 02:32, End: Q4 01:09) Missed FG []\n",
      "01:14 CAR (Start: Q4 02:32, End: Q4 01:09) Missed FG [G.Gano]\n",
      "01:09 JAC (Start: Q4 01:09, End: Q4 00:06) Downs [A.Hurns, B.Bortles]\n",
      "01:05 JAC (Start: Q4 01:09, End: Q4 00:06) Downs [R.Greene, B.Bortles]\n",
      "00:59 JAC (Start: Q4 01:09, End: Q4 00:06) Downs [R.Greene, B.Benwikere, B.Bortles]\n",
      "00:54 JAC (Start: Q4 01:09, End: Q4 00:06) Downs [A.Klein, B.Walters, B.Bortles]\n",
      "00:38 JAC (Start: Q4 01:09, End: Q4 00:06) Downs [B.Bortles]\n",
      "00:38 JAC (Start: Q4 01:09, End: Q4 00:06) Downs [B.Pierce, B.Bortles]\n",
      "00:33 JAC (Start: Q4 01:09, End: Q4 00:06) Downs [M.Addison, B.Bortles]\n",
      "00:13 JAC (Start: Q4 01:09, End: Q4 00:06) Downs [B.Benwikere, B.Walters, B.Bortles]\n",
      "00:06 CAR (Start: Q4 00:06, End: Q4 00:00) End of Game [C.Newton]\n",
      "00:00 CAR (Start: Q4 00:06, End: Q4 00:00) End of Game []\n"
     ]
    }
   ],
   "source": [
    "# get a list of all plays in a game\n",
    "# timestamps appear to be given in time OF THAT QUARTER (so all times are <15:00 because each quarter is 15 min) \n",
    "# timestamps are given in DECREASING TIME: beginning of the quarter is 15:00. end of the quarter is 0:00.\n",
    "\n",
    "playsingame0 = list(gamelist[0].drives.plays())\n",
    "\n",
    "for play in playsingame0:       \n",
    "    print play.data['time'], play.drive, play.players\n"
   ]
  },
  {
   "cell_type": "code",
   "execution_count": 75,
   "metadata": {
    "collapsed": false
   },
   "outputs": [
    {
     "name": "stdout",
     "output_type": "stream",
     "text": [
      "Q1 15:00 Q1 13:36 Punt\n",
      "Q1 13:36 Q1 07:49 Field Goal\n",
      "Q1 07:49 Q1 06:38 Punt\n",
      "Q1 06:38 Q1 05:25 Missed FG\n",
      "Q1 05:25 Q1 00:59 Field Goal\n",
      "Q1 00:59 Q2 14:06 Punt\n",
      "Q2 14:06 Q2 09:13 Fumble\n",
      "Q2 09:13 Q2 08:11 Interception\n",
      "Q2 08:11 Q2 07:19 Missed FG\n",
      "Q2 07:19 Q2 01:52 Touchdown\n",
      "Q2 01:52 Q2 00:14 Touchdown\n",
      "Q2 00:14 Q2 00:00 End of Half\n",
      "Q3 15:00 Q3 11:15 Punt\n",
      "Q3 11:15 Q3 09:01 Interception\n",
      "Q3 09:01 Q3 06:34 Punt\n",
      "Q3 06:34 Q3 02:40 Punt\n",
      "Q3 02:40 Q3 01:04 Punt\n",
      "Q3 01:04 Q4 14:49 Punt\n",
      "Q4 14:49 Q4 10:48 Punt\n",
      "Q4 10:48 Q4 02:41 Field Goal\n",
      "Q4 02:41 Q4 02:32 Interception\n",
      "Q4 02:32 Q4 01:09 Missed FG\n",
      "Q4 01:09 Q4 00:06 Downs\n",
      "Q4 00:06 Q4 00:00 End of Game\n"
     ]
    }
   ],
   "source": [
    "for d in list(gamelist[0].drives):\n",
    "    print d.time_start, d.time_end, d.result"
   ]
  },
  {
   "cell_type": "code",
   "execution_count": 76,
   "metadata": {
    "collapsed": false
   },
   "outputs": [
    {
     "data": {
      "text/plain": [
       "<nflgame.game.GameClock at 0x41f53978>"
      ]
     },
     "execution_count": 76,
     "metadata": {},
     "output_type": "execute_result"
    }
   ],
   "source": [
    "drives = list(gamelist[0].drives)\n",
    "drives[0].time_start\n",
    "\n",
    "#drive timestamps are given as GameClock objects...."
   ]
  },
  {
   "cell_type": "code",
   "execution_count": null,
   "metadata": {
    "collapsed": true
   },
   "outputs": [],
   "source": []
  }
 ],
 "metadata": {
  "kernelspec": {
   "display_name": "Python 2",
   "language": "python",
   "name": "python2"
  },
  "language_info": {
   "codemirror_mode": {
    "name": "ipython",
    "version": 2
   },
   "file_extension": ".py",
   "mimetype": "text/x-python",
   "name": "python",
   "nbconvert_exporter": "python",
   "pygments_lexer": "ipython2",
   "version": "2.7.11"
  }
 },
 "nbformat": 4,
 "nbformat_minor": 0
}
