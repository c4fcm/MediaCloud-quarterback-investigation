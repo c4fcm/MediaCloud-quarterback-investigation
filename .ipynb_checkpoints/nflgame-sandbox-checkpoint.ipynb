{
 "cells": [
  {
   "cell_type": "code",
   "execution_count": 1,
   "metadata": {
    "collapsed": true
   },
   "outputs": [],
   "source": [
    "# sandbox notebook for experimenting with nflgame package\n",
    "# https://github.com/BurntSushi/nflgame\n",
    "# api documentation at http://pdoc.burntsushi.net/nflgame\n",
    "# install with \"pip install nflgame\"\n",
    "\n",
    "import nflgame as ng\n",
    "import numpy as np"
   ]
  },
  {
   "cell_type": "code",
   "execution_count": null,
   "metadata": {
    "collapsed": false
   },
   "outputs": [],
   "source": [
    "ng.standard_team('carolina panthers') #returns standard abbreviation for team name"
   ]
  },
  {
   "cell_type": "code",
   "execution_count": 4,
   "metadata": {
    "collapsed": false
   },
   "outputs": [
    {
     "name": "stdout",
     "output_type": "stream",
     "text": [
      "5/11/1989\n",
      "00-0027939\n",
      "CAR\n",
      "[C.Newton, T.Ginn] 13:36\n",
      "[C.Newton, P.Posluszny] 13:31\n",
      "[E.Dickson, C.Newton, P.Posluszny] 12:49\n",
      "[C.Newton, C.Brown, T.Smith] 12:14\n",
      "[C.Newton, J.Cotchery] 10:07\n",
      "[C.Newton, T.Ginn] 10:04\n",
      "[G.Olsen, C.Newton, S.Brown] 09:59\n",
      "[C.Clemons, C.Newton] 08:25\n",
      "[E.Dickson, C.Newton, P.Posluszny] 07:58\n",
      "[C.Newton, D.Funchess] 05:40\n",
      "[C.Newton, T.Ginn] 05:35\n",
      "[C.Newton, J.Odrick] 00:19\n",
      "[R.Miller, C.Newton] 15:00\n",
      "[J.Stewart, C.Newton, D.Skuta] 09:13\n",
      "[C.Newton, A.Colvin, D.Funchess] 08:55\n",
      "[C.Newton, P.Posluszny, G.Olsen] 08:22\n",
      "[C.Newton, D.Skuta] 07:19\n",
      "[C.Newton, T.Ginn] 06:35\n",
      "[C.Newton, J.Cotchery] 06:10\n",
      "[J.Stewart, J.Cyprien, C.Newton] 05:21\n",
      "[C.Newton, P.Posluszny, F.Whittaker] 04:47\n",
      "[C.Newton, C.Brown, D.Gratz] 04:10\n",
      "[C.Newton, A.Colvin, M.Tolbert, P.Posluszny] 03:07\n",
      "[R.Davis, C.Newton] 02:25\n",
      "[C.Newton, D.Skuta] 02:00\n",
      "[C.Newton, J.Cotchery] 01:56\n",
      "[C.Newton] 00:14\n",
      "[C.Newton, T.Ginn] 14:30\n",
      "[D.House, C.Newton, T.Ginn] 14:23\n",
      "[C.Newton, T.Smith] 12:50\n",
      "[C.Newton, D.Skuta] 12:08\n",
      "[C.Clemons, C.Newton, T.Ginn] 06:06\n",
      "[J.Cotchery, C.Newton, T.Smith] 06:02\n",
      "[M.Bennett, C.Newton, T.Smith] 04:18\n",
      "[F.Whittaker, C.Newton, T.Smith] 03:31\n",
      "[C.Newton, D.McCray, J.Cotchery] 00:20\n",
      "[C.Newton, M.Tolbert] 15:00\n",
      "[C.Newton, C.Smith, C.Brown] 10:48\n",
      "[D.House, C.Newton, J.Cotchery] 09:53\n",
      "[D.House, C.Newton, G.Olsen] 08:42\n",
      "[C.Newton, J.Odrick] 08:17\n",
      "[J.Stewart, C.Newton, D.Gratz] 07:17\n",
      "[J.Stewart, C.Newton, P.Posluszny] 05:52\n",
      "[C.Newton, T.Smith] 05:08\n",
      "[C.Newton, C.Smith] 03:38\n",
      "[C.Newton, T.Smith] 02:56\n",
      "[C.Newton] 00:06\n"
     ]
    }
   ],
   "source": [
    "for player in ng.find('Cam Newton'): # ng.find() returns a LIST of \"player\" objects\n",
    "    \n",
    "    print player.birthdate\n",
    "    print player.gsis_id\n",
    "    print player.team\n",
    "    \n",
    "    for play in player.plays(2015, week=1):\n",
    "        print play.players, play.data['time']"
   ]
  },
  {
   "cell_type": "code",
   "execution_count": null,
   "metadata": {
    "collapsed": false
   },
   "outputs": [],
   "source": [
    "gamelist = ng.games(2015, week = range(1,18), home = 'CAR', away = 'CAR', kind = 'REG')\n",
    "# this is: a list of all games with the carolina panthers in the 2015 regular season\n",
    "\n",
    "# http://pdoc.burntsushi.net/nflgame#nflgame.games says:\n",
    "# As a special case, if the home and away teams are set to the same team, then all games where that team played are returned.\n",
    "# \n",
    "# The kind parameter specifies whether to fetch preseason, regular season or postseason games. Valid values are PRE, REG and POST.\n",
    "# \n",
    "# The week parameter is relative to the value of the kind parameter, and may be set to a list of week numbers. \n",
    "# In the regular season, the week parameter corresponds to the normal week numbers 1 through 17. \n",
    "# Similarly in the preseason, valid week numbers are 1 through 4. In the post season, the week number corresponds to \n",
    "# the numerical round of the playoffs. So the wild card round is week 1, the divisional round is week 2, the conference round \n",
    "# is week 3 and the Super Bowl is week 4."
   ]
  },
  {
   "cell_type": "code",
   "execution_count": null,
   "metadata": {
    "collapsed": false
   },
   "outputs": [],
   "source": [
    "nonegamelist = ng.games(2015, week = None, home = 'CAR', away = 'CAR', kind = 'REG')"
   ]
  },
  {
   "cell_type": "code",
   "execution_count": null,
   "metadata": {
    "collapsed": false
   },
   "outputs": [],
   "source": [
    "# confirms that both lists are the same; week = None is equivalent to week = range(1,18) (makes sense)\n",
    "# also this is how you get the game ID# from the game object\n",
    "\n",
    "gamelistkeys = []\n",
    "for g in gamelist:\n",
    "    gamelistkeys += [g.gamekey]\n",
    "    \n",
    "gamelistnonekeys = []\n",
    "for g in nonegamelist:\n",
    "    gamelistnonekeys += [g.gamekey]\n",
    "    \n",
    "gamelistkeys == gamelistnonekeys"
   ]
  },
  {
   "cell_type": "code",
   "execution_count": null,
   "metadata": {
    "collapsed": false
   },
   "outputs": [],
   "source": [
    "# get a list of all plays in a game\n",
    "# timestamps appear to be given in time OF THAT QUARTER (so all times are <15:00 because each quarter is 15 min) \n",
    "# timestamps are given in DECREASING TIME: beginning of the quarter is 15:00. end of the quarter is 0:00.\n",
    "\n",
    "playsingame0 = list(gamelist[0].drives.plays())\n",
    "camnewtongsid = '00-0027939'\n",
    "\n",
    "for play in playsingame0:\n",
    "    print play.data['qtr'], play.data['time'], play.drive, play.players\n"
   ]
  },
  {
   "cell_type": "code",
   "execution_count": null,
   "metadata": {
    "collapsed": false
   },
   "outputs": [],
   "source": [
    "for d in list(gamelist[0].drives):\n",
    "    print d.time_start, d.time_end, d.result"
   ]
  },
  {
   "cell_type": "code",
   "execution_count": null,
   "metadata": {
    "collapsed": false
   },
   "outputs": [],
   "source": [
    "drives = list(gamelist[0].drives)\n",
    "print drives[0].time_start\n",
    "print drives[0].time_start.qtr\n",
    "print drives[0].time_start.clock\n",
    "\n",
    "# see here: http://pdoc.burntsushi.net/nflgame/game.m.html#nflgame.game.GameClock\n",
    "# drive timestamps are given as GameClock objects....\n",
    "# looks like drives[0].time_start.clock will give you...the time as a string...."
   ]
  },
  {
   "cell_type": "code",
   "execution_count": null,
   "metadata": {
    "collapsed": false
   },
   "outputs": [],
   "source": [
    "# trying to get total playtime for cam newton in one game\n",
    "\n",
    "playsingame0 = list(gamelist[0].drives.plays())\n",
    "camnewtongsid = '00-0027939'\n",
    "\n",
    "camnewtonplays = [play for play in playsingame0 if play.has_player(camnewtongsid)]\n",
    "\n",
    "starttime = [int(t) for t in camnewtonplays[0].data['time'].split(':')] \n",
    "starttime = [camnewtonplays[0].data['qtr'] - 1] + starttime #now starttime is list (qtr -  1, min, sec)\n",
    "starttime_seconds = np.dot(starttime, [15*60, 60,1]) #starttime in seconds since beginning of game\n",
    "\n",
    "endtime = [int(t) for t in camnewtonplays[-1].data['time'].split(':')]\n",
    "endtime = [camnewtonplays[-1].data['qtr'] - 1] + endtime\n",
    "endtime_seconds = np.dot(endtime, [15*60, 60, 1]) #endtime in seconds since beginning of game\n",
    "\n",
    "playtimegame0 = endtime_seconds - starttime_seconds\n",
    "print playtimegame0"
   ]
  },
  {
   "cell_type": "code",
   "execution_count": 3,
   "metadata": {
    "collapsed": false
   },
   "outputs": [
    {
     "name": "stdout",
     "output_type": "stream",
     "text": [
      "1890\n",
      "1805\n",
      "2467\n",
      "1922\n",
      "1973\n",
      "2418\n",
      "3139\n",
      "2063\n",
      "1974\n",
      "2514\n",
      "2022\n",
      "2083\n",
      "1285\n",
      "1980\n",
      "1902\n",
      "2351\n",
      "net playtime:  33788\n"
     ]
    }
   ],
   "source": [
    "# trying to get total playtime for cam newton in entire season\n",
    "\n",
    "gamelist = ng.games(2015, home = 'CAR', away = 'CAR', kind = 'REG')\n",
    "camnewtongsid = '00-0027939'\n",
    "netplaytime = 0\n",
    "\n",
    "for game in gamelist:\n",
    "    playsingame = list(game.drives.plays())\n",
    "    camnewtonplays = [play for play in playsingame if play.has_player(camnewtongsid)]\n",
    "\n",
    "    starttime = [int(t) for t in camnewtonplays[0].data['time'].split(':')] \n",
    "    starttime = [camnewtonplays[0].data['qtr'] - 1] + starttime #now starttime is list (qtr -  1, min, sec)\n",
    "    starttime_seconds = np.dot(starttime, [15*60, 60,1]) #starttime in seconds since beginning of game\n",
    "\n",
    "    endtime = [int(t) for t in camnewtonplays[-1].data['time'].split(':')]\n",
    "    endtime = [camnewtonplays[-1].data['qtr'] - 1] + endtime\n",
    "    endtime_seconds = np.dot(endtime, [15*60, 60, 1]) #endtime in seconds since beginning of game\n",
    "\n",
    "    gametime = endtime_seconds - starttime_seconds\n",
    "    print gametime\n",
    "    netplaytime += gametime\n",
    "    \n",
    "print 'net playtime: ', netplaytime"
   ]
  },
  {
   "cell_type": "code",
   "execution_count": 15,
   "metadata": {
    "collapsed": false
   },
   "outputs": [
    {
     "name": "stdout",
     "output_type": "stream",
     "text": [
      "Mike Vick PIT\n"
     ]
    }
   ],
   "source": [
    "for i in ng.find('mike vick'):\n",
    "    print i.name, i.team"
   ]
  },
  {
   "cell_type": "code",
   "execution_count": null,
   "metadata": {
    "collapsed": true
   },
   "outputs": [],
   "source": []
  }
 ],
 "metadata": {
  "kernelspec": {
   "display_name": "Python 2",
   "language": "python",
   "name": "python2"
  },
  "language_info": {
   "codemirror_mode": {
    "name": "ipython",
    "version": 2
   },
   "file_extension": ".py",
   "mimetype": "text/x-python",
   "name": "python",
   "nbconvert_exporter": "python",
   "pygments_lexer": "ipython2",
   "version": "2.7.11"
  }
 },
 "nbformat": 4,
 "nbformat_minor": 0
}
