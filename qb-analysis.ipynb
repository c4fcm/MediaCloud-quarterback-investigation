{
 "cells": [
  {
   "cell_type": "code",
   "execution_count": 1,
   "metadata": {
    "collapsed": true
   },
   "outputs": [],
   "source": [
    "import pandas as pd\n",
    "import numpy as np\n",
    "import unicodecsv as csv\n",
    "from PyDictionary import PyDictionary"
   ]
  },
  {
   "cell_type": "markdown",
   "metadata": {},
   "source": [
    "## Open manually coded words"
   ]
  },
  {
   "cell_type": "code",
   "execution_count": 5,
   "metadata": {
    "collapsed": false
   },
   "outputs": [
    {
     "name": "stdout",
     "output_type": "stream",
     "text": [
      "name - 50 terms\n",
      "personal - 14 terms\n",
      "stopword - 115 terms\n",
      "descriptor - 26 terms\n",
      "health - 15 terms\n",
      "action - 29 terms\n"
     ]
    }
   ],
   "source": [
    "codings = {}\n",
    "reader = csv.reader( open('data/manual-word-tags.csv','rU'))\n",
    "reader.next()\n",
    "for row in reader:\n",
    "    word = row[0]\n",
    "    tag = row[1]\n",
    "    if tag not in codings:\n",
    "        codings[tag] = []\n",
    "    codings[tag].append(word)\n",
    "for category,terms in codings.iteritems():\n",
    "    print \"%s - %d terms\" % (category, len(terms))"
   ]
  },
  {
   "cell_type": "code",
   "execution_count": 9,
   "metadata": {
    "collapsed": false
   },
   "outputs": [],
   "source": [
    "# TO FINISH: use PyDictionary to find synonyms for all the words in these categories (to expand our word blacklists and whitelists)\n",
    "to_expand = ['personal','descriptor','health','action']\n",
    "expanded_codings = {}\n",
    "for category in to_expand:\n",
    "    terms = codings[category]\n",
    "    dictionary = PyDictionary(terms)\n",
    "    dictionary.getSynonyms()\n",
    "    "
   ]
  },
  {
   "cell_type": "markdown",
   "metadata": {},
   "source": [
    "## Open and work with data"
   ]
  },
  {
   "cell_type": "code",
   "execution_count": 3,
   "metadata": {
    "collapsed": true
   },
   "outputs": [],
   "source": [
    "df = pd.read_csv('data/word_freq_by_race.csv')"
   ]
  },
  {
   "cell_type": "code",
   "execution_count": null,
   "metadata": {
    "collapsed": false
   },
   "outputs": [],
   "source": [
    "top200white = df.sort_values('white',ascending=False).head(200)['word']"
   ]
  },
  {
   "cell_type": "code",
   "execution_count": null,
   "metadata": {
    "collapsed": true
   },
   "outputs": [],
   "source": [
    "top200other = df.sort_values('other',ascending=False).head(200)['word']"
   ]
  },
  {
   "cell_type": "code",
   "execution_count": null,
   "metadata": {
    "collapsed": false
   },
   "outputs": [],
   "source": [
    "top200other[~top200other.isin(top200white)]"
   ]
  },
  {
   "cell_type": "markdown",
   "metadata": {},
   "source": [
    "## Find Synonyms"
   ]
  },
  {
   "cell_type": "code",
   "execution_count": 3,
   "metadata": {
    "collapsed": false
   },
   "outputs": [
    {
     "data": {
      "text/plain": [
       "[{'threw': [u'lob', u'thrust', u'force', u'shove', u'fling']}]"
      ]
     },
     "execution_count": 3,
     "metadata": {},
     "output_type": "execute_result"
    }
   ],
   "source": [
    "dictionary = PyDictionary(\"threw\")\n",
    "dictionary.getSynonyms()"
   ]
  },
  {
   "cell_type": "markdown",
   "metadata": {},
   "source": [
    "## Analyze Category Use by Race"
   ]
  },
  {
   "cell_type": "code",
   "execution_count": 4,
   "metadata": {
    "collapsed": false
   },
   "outputs": [
    {
     "data": {
      "text/plain": [
       "{u'action': {'other': 0.03791378, 'white': 0.038188879999999994},\n",
       " u'descriptor': {'other': 0.044566294, 'white': 0.04619711399999999},\n",
       " u'health': {'other': 0.024143619, 'white': 0.019935331999999997},\n",
       " u'name': {'other': 0.046217126, 'white': 0.038795537},\n",
       " u'personal': {'other': 0.019783949, 'white': 0.016239604999999997},\n",
       " u'stopword': {'other': 0.3200348539999997, 'white': 0.3064274950000001}}"
      ]
     },
     "execution_count": 4,
     "metadata": {},
     "output_type": "execute_result"
    }
   ],
   "source": [
    "uses = {}\n",
    "for category,terms in codings.iteritems():\n",
    "    white_uses = 0\n",
    "    other_uses = 0\n",
    "    uses[category] = {'white':df[df['word'].isin(terms)].sum(axis=0)['white pct'],\n",
    "                      'other':df[df['word'].isin(terms)].sum(axis=0)['other pct']}\n",
    "uses"
   ]
  },
  {
   "cell_type": "code",
   "execution_count": null,
   "metadata": {
    "collapsed": true
   },
   "outputs": [],
   "source": []
  }
 ],
 "metadata": {
  "kernelspec": {
   "display_name": "Python 2",
   "language": "python",
   "name": "python2"
  },
  "language_info": {
   "codemirror_mode": {
    "name": "ipython",
    "version": 2
   },
   "file_extension": ".py",
   "mimetype": "text/x-python",
   "name": "python",
   "nbconvert_exporter": "python",
   "pygments_lexer": "ipython2",
   "version": "2.7.10"
  }
 },
 "nbformat": 4,
 "nbformat_minor": 0
}
